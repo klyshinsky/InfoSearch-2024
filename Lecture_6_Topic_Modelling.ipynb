{
 "cells": [
  {
   "cell_type": "markdown",
   "metadata": {},
   "source": [
    "## Тематическое моделирование\n",
    "\n",
    "Мы уже использовали снижение размерности пространства при анализе текстов. Еще одним вариантом такого снижения является тематическое моделирование. Для него используются следующие рассуждения.\n",
    "\n",
    "Пусть дан набор текстов, в каждом тексте имеются определенные слова. В таком случае можно посчитать матрицу термины-документы, в которой по строкам будут идти термины, по столбцам документы, а на пересечении будет стоять частота термина в данном документе. \n",
    "<img  width=\"40%\" src=\"img/term-document-matrix-bow-annotated.png\">\n",
    "\n",
    "\n",
    "При помощи элементарных математических преобразований (метод SVD) данную матрицу можно представить в виде произведения трех матриц: матрицы слово на тематику, матрицы тематик и матрицы тематика на документ. Средняя из матриц будет квадратной и диагональной и будет содержать некоторые коэффициенты важности, которые можно отсортировать по убыванию. В этом случае размерность матрицы можно серьезно сократить, отбросив неактуальные темы. Для сокращения числа коэффициентов надо снизить размер матрицы $\\Sigma$.\n",
    "\n",
    "<img  width=\"40%\" src=\"img/1024px-Singular-Value-Decomposition.svg.png\"> \n",
    "<img  width=\"40%\" src=\"img/800px-Singular_value_decomposition_visualisation.svg.png\">"
   ]
  },
  {
   "cell_type": "markdown",
   "metadata": {},
   "source": [
    "На основе SVD работает метод латентно-семантического анализа (LSA), который позволяет более четко найти связи между терминами и документами. Его более быстрая реализация, LDA, проводит нечеткий поиск. LSI является модификацией для задач информационного поиска."
   ]
  },
  {
   "cell_type": "markdown",
   "metadata": {},
   "source": [
    "Рассмотрим теперь пример применения SVD для задач классификации."
   ]
  },
  {
   "cell_type": "code",
   "execution_count": 181,
   "metadata": {},
   "outputs": [],
   "source": [
    "import numpy as np\n",
    "import pandas as pd\n",
    "import matplotlib.pyplot as plt\n",
    "from mpl_toolkits.mplot3d import Axes3D\n",
    "import seaborn as sns\n",
    "\n",
    "import pymorphy2\n",
    "import re\n",
    "from tqdm.auto import tqdm\n",
    "import umap\n",
    "\n",
    "from sklearn.feature_extraction.text import TfidfVectorizer\n",
    "from sklearn.feature_extraction.text import CountVectorizer\n",
    "from sklearn.model_selection import train_test_split\n",
    "from sklearn.metrics import confusion_matrix, accuracy_score\n",
    "\n",
    "from sklearn.ensemble import RandomForestClassifier\n",
    "\n",
    "# Разложение матрицы на три с сокращением размерности.\n",
    "from sklearn.decomposition import TruncatedSVD"
   ]
  },
  {
   "cell_type": "markdown",
   "metadata": {},
   "source": [
    "Возьмем по тысяче научных текстов из пяти разных областей науки. (Они занимают 140 Мб и не влезают на Гит, так что доступны по запросу.)"
   ]
  },
  {
   "cell_type": "code",
   "execution_count": null,
   "metadata": {},
   "outputs": [],
   "source": [
    "sci_texts = pd.read_csv(\"data/kaggle-science-texts_train.tsv\", header=0, sep = ';')"
   ]
  },
  {
   "cell_type": "code",
   "execution_count": 3,
   "metadata": {},
   "outputs": [
    {
     "data": {
      "text/html": [
       "<div>\n",
       "<style scoped>\n",
       "    .dataframe tbody tr th:only-of-type {\n",
       "        vertical-align: middle;\n",
       "    }\n",
       "\n",
       "    .dataframe tbody tr th {\n",
       "        vertical-align: top;\n",
       "    }\n",
       "\n",
       "    .dataframe thead th {\n",
       "        text-align: right;\n",
       "    }\n",
       "</style>\n",
       "<table border=\"1\" class=\"dataframe\">\n",
       "  <thead>\n",
       "    <tr style=\"text-align: right;\">\n",
       "      <th></th>\n",
       "      <th>ID</th>\n",
       "      <th>Target</th>\n",
       "      <th>Text</th>\n",
       "    </tr>\n",
       "  </thead>\n",
       "  <tbody>\n",
       "    <tr>\n",
       "      <th>0</th>\n",
       "      <td>1</td>\n",
       "      <td>0</td>\n",
       "      <td>...</td>\n",
       "    </tr>\n",
       "    <tr>\n",
       "      <th>1</th>\n",
       "      <td>2</td>\n",
       "      <td>0</td>\n",
       "      <td>...</td>\n",
       "    </tr>\n",
       "    <tr>\n",
       "      <th>2</th>\n",
       "      <td>3</td>\n",
       "      <td>0</td>\n",
       "      <td>...</td>\n",
       "    </tr>\n",
       "    <tr>\n",
       "      <th>3</th>\n",
       "      <td>4</td>\n",
       "      <td>0</td>\n",
       "      <td>...</td>\n",
       "    </tr>\n",
       "    <tr>\n",
       "      <th>4</th>\n",
       "      <td>5</td>\n",
       "      <td>0</td>\n",
       "      <td>...</td>\n",
       "    </tr>\n",
       "  </tbody>\n",
       "</table>\n",
       "</div>"
      ],
      "text/plain": [
       "   ID  Target                                               Text\n",
       "0   1       0                                                ...\n",
       "1   2       0                                                ...\n",
       "2   3       0                                                ...\n",
       "3   4       0                                                ...\n",
       "4   5       0                                                ..."
      ]
     },
     "execution_count": 3,
     "metadata": {},
     "output_type": "execute_result"
    }
   ],
   "source": [
    "sci_texts.head()"
   ]
  },
  {
   "cell_type": "code",
   "execution_count": 4,
   "metadata": {},
   "outputs": [
    {
     "name": "stdout",
     "output_type": "stream",
     "text": [
      "Explained variance of the SVD step: 8%\n",
      "(5000, 20) [[ 0.18716104  0.05641819 -0.09602372 ... -0.04904532 -0.02946451\n",
      "  -0.02788464]\n",
      " [ 0.15355927 -0.00178663 -0.060008   ...  0.02179704 -0.01167683\n",
      "  -0.05559744]\n",
      " [ 0.12449795  0.01570733 -0.06642562 ... -0.09846334  0.01299248\n",
      "  -0.03335706]\n",
      " ...\n",
      " [ 0.27208788 -0.0881133  -0.06229987 ... -0.12996084 -0.02805575\n",
      "  -0.02653672]\n",
      " [ 0.16188171 -0.07406514 -0.0423283  ... -0.070384   -0.01640135\n",
      "  -0.01946812]\n",
      " [ 0.33845172 -0.15522912 -0.07595859 ... -0.07150976 -0.01365172\n",
      "  -0.07227237]]\n",
      "CPU times: user 18.8 s, sys: 12.6 s, total: 31.4 s\n",
      "Wall time: 16.9 s\n"
     ]
    }
   ],
   "source": [
    "%%time\n",
    "# Считаем матрицу термин-документ, но не с частотами, а со значениями Tf*Idf\n",
    "X = TfidfVectorizer().fit_transform(sci_texts['Text'])\n",
    "# Проводим SVD-разложение по 20 компонентам.\n",
    "svd = TruncatedSVD(n_components=20)\n",
    "X2 = svd.fit_transform(X)\n",
    "\n",
    "explained_variance = svd.explained_variance_ratio_.sum()\n",
    "print(f\"Explained variance of the SVD step: {int(explained_variance * 100)}%\")\n",
    "# Просто чтобы посмотреть, что там в самом деле вектора.\n",
    "print(X2.shape, X2)"
   ]
  },
  {
   "cell_type": "code",
   "execution_count": 5,
   "metadata": {},
   "outputs": [
    {
     "data": {
      "text/plain": [
       "<5000x509412 sparse matrix of type '<class 'numpy.float64'>'\n",
       "\twith 5699630 stored elements in Compressed Sparse Row format>"
      ]
     },
     "execution_count": 5,
     "metadata": {},
     "output_type": "execute_result"
    }
   ],
   "source": [
    "X"
   ]
  },
  {
   "cell_type": "markdown",
   "metadata": {},
   "source": [
    "Исходно, код ниже выполнялся 37 минут. Но если поставить  \n",
    "`pip install pymorphy2[fast]`\n",
    "то библиотека начинает работать горазо быстрее.\n",
    "\n",
    "Если морфология работает медленно, но в тексте вссегда есть повторяющиеся слова (кто знает что такое закон Ципфа?), то может быть результаты медленной морфологии надо кешировать в быстром словаре (dict)?"
   ]
  },
  {
   "cell_type": "code",
   "execution_count": 7,
   "metadata": {},
   "outputs": [],
   "source": [
    "# Список значимых частей речи. \n",
    "# Они нам потом понадобятся в немного другом виде. Так что сделаем словарь. чтобы два раза не вставать.\n",
    "conv_pos = {'ADJF':'ADJ', 'ADJS':'ADJ', 'ADV':'ADV', 'NOUN':'NOUN', \n",
    "            'VERB':'VERB', 'PRTF':'ADJ', 'PRTS':'ADJ', 'GRND':'VERB'}\n",
    "\n",
    "tmp_dict = {} # Кеш значимых слов.\n",
    "nones = {} # Кеш незначимых слов.\n",
    "\n",
    "morph = pymorphy2.MorphAnalyzer()\n",
    "\n",
    "# Фильтруем по части речи и возвращаем только начальную форму.\n",
    "def normalizePymorphy(text, need_pos=True):\n",
    "    tokens = re.findall('[A-Za-zА-Яа-яЁё]+\\-[A-Za-zА-Яа-яЁё]+|[A-Za-zА-Яа-яЁё]+', text)\n",
    "    words = []\n",
    "    for t in tokens:\n",
    "        # Если токен уже был закеширован, быстро возьмем результат из него.\n",
    "        if t in tmp_dict.keys():\n",
    "            words.append(tmp_dict[t])\n",
    "        # Аналогично, если он в кеше незначимых слов.\n",
    "        elif t in nones.keys():\n",
    "            pass\n",
    "        # Слово еще не встретилось, будем проводить медленный морфологический анализ.\n",
    "        else:\n",
    "            pv = morph.parse(t)\n",
    "            if pv[0].tag.POS != None:\n",
    "                if pv[0].tag.POS in conv_pos.keys():\n",
    "                    if need_pos:\n",
    "                        word = pv[0].normal_form+\"_\"+conv_pos[pv[0].tag.POS]\n",
    "                    else:\n",
    "                        word = pv[0].normal_form\n",
    "                    # Отправляем слово в результат, ...\n",
    "                    words.append(word)\n",
    "                    # ... и кешируем результат его разбора.\n",
    "                    tmp_dict[t] = word\n",
    "                else:\n",
    "                    # Для незначимых слов можно даже ничего не хранить. Лишь бы потом не обращаться к морфологии.\n",
    "                    nones[t] = \"\"\n",
    "                    \n",
    "    return words"
   ]
  },
  {
   "cell_type": "code",
   "execution_count": 8,
   "metadata": {},
   "outputs": [
    {
     "name": "stdout",
     "output_type": "stream",
     "text": [
      "CPU times: user 1min 32s, sys: 68.3 ms, total: 1min 32s\n",
      "Wall time: 1min 32s\n"
     ]
    }
   ],
   "source": [
    "%%time\n",
    "# Приведем слова в текстах к начальным формам.\n",
    "sci_texts['NText'] = sci_texts['Text'].map(lambda x:' '.join(normalizePymorphy(x)))"
   ]
  },
  {
   "cell_type": "code",
   "execution_count": 9,
   "metadata": {},
   "outputs": [
    {
     "name": "stdout",
     "output_type": "stream",
     "text": [
      "CPU times: user 10.9 s, sys: 9.1 s, total: 20 s\n",
      "Wall time: 8.9 s\n"
     ]
    }
   ],
   "source": [
    "%%time\n",
    "X_l = TfidfVectorizer().fit_transform(sci_texts['NText'])\n",
    "svd = TruncatedSVD(n_components=10)\n",
    "X2_l = svd.fit_transform(X)"
   ]
  },
  {
   "cell_type": "code",
   "execution_count": 10,
   "metadata": {},
   "outputs": [],
   "source": [
    "# Подготовим целевые переменные. Мы же знаем, что там ровно по 1000 текстов для каждой области.\n",
    "classes = np.ones(5000)\n",
    "for i in range(2, 6):\n",
    "    classes[(i-1)*1000: i*1000] = i"
   ]
  },
  {
   "cell_type": "code",
   "execution_count": 11,
   "metadata": {},
   "outputs": [],
   "source": [
    "def classify_texts(data, target):\n",
    "    # Делим данные на обучающую и проверочную выборки.\n",
    "    X_train, X_test, y_train, y_test = train_test_split(data, target, test_size=0.2, random_state=333)\n",
    "    #Обучаем классификатор и оцениваем точность результатов.\n",
    "    tree = RandomForestClassifier(criterion='entropy', random_state=333)\n",
    "    tree.fit(X_train, y_train)\n",
    "    y_hat = tree.predict(X_test)\n",
    "    print(f\"accuracy = {accuracy_score(y_hat, y_test)}\")\n",
    "    print(confusion_matrix(y_test, y_hat))"
   ]
  },
  {
   "cell_type": "markdown",
   "metadata": {},
   "source": [
    "А теперь сравним точность работы классификатора, запущенного на разных данных: с и без лемматизации; векторизация при помощи TF*IDF или SVD."
   ]
  },
  {
   "cell_type": "code",
   "execution_count": 12,
   "metadata": {},
   "outputs": [
    {
     "name": "stdout",
     "output_type": "stream",
     "text": [
      "accuracy = 0.979\n",
      "[[204   0   3   0   2]\n",
      " [  2 185   2   1   0]\n",
      " [  4   0 199   2   1]\n",
      " [  0   0   1 190   2]\n",
      " [  0   0   1   0 201]]\n",
      "CPU times: user 13.5 s, sys: 86.3 ms, total: 13.6 s\n",
      "Wall time: 13.6 s\n"
     ]
    }
   ],
   "source": [
    "%%time\n",
    "# TF*Idf без лемматизации.\n",
    "classify_texts(X, classes)"
   ]
  },
  {
   "cell_type": "code",
   "execution_count": 13,
   "metadata": {},
   "outputs": [
    {
     "name": "stdout",
     "output_type": "stream",
     "text": [
      "accuracy = 0.97\n",
      "[[201   0   3   2   3]\n",
      " [  4 180   6   0   0]\n",
      " [  3   0 200   2   1]\n",
      " [  1   0   0 190   2]\n",
      " [  0   0   0   3 199]]\n",
      "CPU times: user 7.55 s, sys: 19.8 ms, total: 7.57 s\n",
      "Wall time: 7.58 s\n"
     ]
    }
   ],
   "source": [
    "%%time\n",
    "# TF*Idf с лемматизацией.\n",
    "classify_texts(X_l, classes)"
   ]
  },
  {
   "cell_type": "code",
   "execution_count": 14,
   "metadata": {},
   "outputs": [
    {
     "name": "stdout",
     "output_type": "stream",
     "text": [
      "accuracy = 0.97\n",
      "[[203   0   4   1   1]\n",
      " [  2 180   7   1   0]\n",
      " [  2   1 201   1   1]\n",
      " [  1   2   0 187   3]\n",
      " [  0   0   0   3 199]]\n",
      "CPU times: user 992 ms, sys: 0 ns, total: 992 ms\n",
      "Wall time: 992 ms\n"
     ]
    }
   ],
   "source": [
    "%%time\n",
    "# SVD без лемматизации.\n",
    "classify_texts(X2, classes)"
   ]
  },
  {
   "cell_type": "code",
   "execution_count": 15,
   "metadata": {},
   "outputs": [
    {
     "name": "stdout",
     "output_type": "stream",
     "text": [
      "accuracy = 0.965\n",
      "[[202   1   3   2   1]\n",
      " [  2 178  10   0   0]\n",
      " [  3   1 200   2   0]\n",
      " [  1   2   1 187   2]\n",
      " [  0   0   0   4 198]]\n",
      "CPU times: user 755 ms, sys: 0 ns, total: 755 ms\n",
      "Wall time: 755 ms\n"
     ]
    }
   ],
   "source": [
    "%%time\n",
    "# SVD с лемматизацией.\n",
    "classify_texts(X2_l, classes)"
   ]
  },
  {
   "cell_type": "markdown",
   "metadata": {},
   "source": [
    "Получается, что с 10 компонентами, полученными при помощи SVD работает в 10 раз быстрее и немного точнее.\n",
    "\n",
    "Вообще, для тематического моделирования текстов существует большая библиотека [BigARTM](http://bigartm.org/), но она не ставится так просто и не входит в стандартные библиотеки."
   ]
  },
  {
   "cell_type": "code",
   "execution_count": null,
   "metadata": {},
   "outputs": [],
   "source": []
  },
  {
   "cell_type": "markdown",
   "metadata": {},
   "source": [
    "## Метод Expectation Maximization\n",
    "\n",
    "Давайте проанализируем сводки Совинформбюро за 1941-45 годы. \n",
    "\n",
    "Возьмем файл сводок и загрузим в память. Каждый новый день начинается с фразы \"Оперативная сводка за <дата>\"."
   ]
  },
  {
   "cell_type": "code",
   "execution_count": 30,
   "metadata": {},
   "outputs": [],
   "source": [
    "with open('data/ww2.txt', 'rt') as in_file:\n",
    "    newws = []\n",
    "    n = ''\n",
    "    while s := in_file.readline():\n",
    "        if 'Оперативная сводка за' in s:\n",
    "            if n != '':\n",
    "                newws.append(n)\n",
    "                n = ''\n",
    "        else:\n",
    "            n += s"
   ]
  },
  {
   "cell_type": "code",
   "execution_count": 32,
   "metadata": {},
   "outputs": [
    {
     "data": {
      "text/plain": [
       "['\\nВ последний час\\n\\nНа ЦЕНТРАЛЬНОМ фронте наши войска в результате решительного штурма овладели городом и железнодорожным узлом ВЕЛИКИЕ ЛУКИ. Ввиду отказа сложить оружие немецкий гарнизон города истреблён.\\n\\nЮжнее СТАЛИНГРАДА наши войска овладели городом ЭЛИСТА.\\n\\nЮго-западнее Сталинграда наши войска овладели районным центром ТОРМОСИН.\\n\\nНа СЕВЕРНОМ КАВКАЗЕ наши войска овладели районным центром ЧИКОЛА.\\n\\nЗахвачены пленные и трофеи.\\n\\nУтреннее сообщение 1 января\\n\\nВ течение ночи на 1 января наши войска южнее Сталинграда, в районе Среднего Дона и на Центральном фронте продолжали вести наступательные бои на прежних направлениях.\\n\\nВечернее сообщение 1 января\\n\\nВ течение 1 января наши войска в районе Среднего Дона, юго-западнее и южнее Сталинграда, на Центральном фронте и на Северном Кавказе вели наступательные бои.\\n\\nНашими войсками заняты город и железнодорожный узел Великие Луки, город Элиста, районные центры Тормосин, Чикола и крупные населённые пункты - Нижне-Курмоярская, Балабановский, Берёзка, Баклановский, Жуковская, Кривской, Мало-Лучная, Степано-Разинский, Комаров, Красный Яр, Верхне-Солоновский, Нижне-Солоновский, Попов, Хазнидон, Толдзгун.\\n\\n',\n",
       " '\\nУтреннее сообщение 2 января\\n\\nВ течение ночи на 2 января наши войска в районе Среднего Дона, юго-западнее и южнее Сталинграда, на Центральном фронте и на Северном Кавказе продолжали вести наступательные бои на прежних направлениях.\\n\\nВечернее сообщение 2 января\\n\\nВ течение 2 января наши войска в районе Среднего Дона, юго-западнее и южнее Сталинграда, на Центральном фронте и на Северном Кавказе вели наступательные бои.\\n\\nНаши войска овладели районным центром Дубовское, железнодорожной станцией Ремонтная и районным центром Эльхотово.\\n\\n',\n",
       " '\\nВ последний час\\n\\n3 января наши наступающие войска внезапным ударом овладели городом и железнодорожной станцией МОЗДОК, а также городом МАЛГОБЕК.\\n\\nУтреннее сообщение 3 января\\n\\nВ течение ночи на 3 января наши войска в районе Среднего Дона, юго-западнее и южнее Сталинграда, на Центральном фронте и на Северном Кавказе продолжали вести наступательные бои на прежних направлениях.\\n\\nВечернее сообщение 3 января\\n\\nВ течение 3 января наши войска в районе Среднего Дона, юго-западнее и южнее Сталинграда, на Центральном фронте и на Северном Кавказе вели наступательные бои на прежних направлениях. Наши наступающие войска внезапным ударом овладели городом и железнодорожной станцией Моздок, а также городом Малгобек.\\n\\nЗа истекшую неделю, с 27 декабря 1942 года по 2 января 1943 года включительно, в воздушных боях и на аэродромах уничтожено 266 немецких самолётов, в том числе в районе Сталинграда - 98 транспортных самолётов. Наши потери за это же время - 122 самолёта.\\n\\n',\n",
       " '\\nВ последний час\\n\\n4 января наши наступающие войска овладели городом ЧЕРНЫШКОВСКИЙ и железнодорожной станцией ЧЕРНЫШКОВ.\\n\\nВ районе Чернышковский захвачены большие трофеи, среди которых самолётов - 17, снарядов - 2.000.000, авиабомб - 500.000, а также склады с продовольствием и военным имуществом.\\n\\nУтреннее сообщение 4 января\\n\\nВ течение ночи на 4 января наши войска в районе Среднего Дона, юго-западнее и южнее Сталинграда, на Центральном фронте и на Северном Кавказе продолжали вести наступательные бои на прежних направлениях.\\n\\n',\n",
       " '\\nВ последний час\\n\\nI.\\n\\n4 января наши войска после решительной атаки овладели городом и железнодорожной станцией НАЛЬЧИК.\\n\\n5 января наши войска овладели городом и узлом ПРОХЛАДНЫЙ, городом МАЙСКОЕ и узлом КОТЛЯРЕВСКАЯ.\\n\\nВ результате упорного боя наши войска овладели городом и железнодорожной станцией МОРОЗОВСКИЙ и районным центром. ЦЫМЛЯНСКАЯ.\\n\\nВзяты трофеи и пленные.\\n\\nII.\\n\\nНашими войсками на СЕВЕРНОМ КАВКАЗЕ в боях с немецкими оккупантами с 24 декабря 1942 года по 4 января 1943 года ВЗЯТЫ следующие трофеи: танков - 150, орудий - 109, пулеметов - 268, винтовок - около 5.000, противотанковых и противопехотных мин - 59.000, патронов - свыше 500.000, автомашин - 253, складов с боеприпасами и продовольствием - 15.\\n\\nЗа этот же период УНИЧТОЖЕНО: самолётов - 18, танков - 170, орудий - 42, пулемётов - 222, автомашин с грузом и военным снаряжением - 390.\\n\\nЗа время с 24 декабря 1942 года по 4 января 1943 года противник потерял только убитыми свыше 11.000 солдат и офицеров.\\n\\nУтреннее сообщение 5 января\\n\\nВ течение ночи на 5 января наши войска в районе Среднего Дона, юго-западнее и южнее Сталинграда, на Центральном фронте и на Северном Кавказе продолжали вести наступательные бои на прежних направлениях.\\n\\nВечернее сообщение 5 января\\n\\nВ течение 5 января наши войска в районе Среднего Дона, юго-западнее и южнее Сталинграда, на Центральном фронте и на Северном Кавказе вели наступательные бои на прежних направлениях. Наши войска овладели городом и железнодорожной станцией Нальчик, городом и железнодорожным узлом Прохладный, городом Майское и железнодорожным узлом Котляревская, городом и железнодорожной станцией Морозовский и районным центром Цымлянская.\\n\\n']"
      ]
     },
     "execution_count": 32,
     "metadata": {},
     "output_type": "execute_result"
    }
   ],
   "source": [
    "newws[:5]"
   ]
  },
  {
   "cell_type": "markdown",
   "metadata": {},
   "source": []
  },
  {
   "cell_type": "markdown",
   "metadata": {},
   "source": [
    "Давайте предобработаем текст и посчитаем для него tf-idf. Конечно же, можно было более сложным образом выделять слова и, вообще, использовать как минимум биграммы. Но давайте посмотрим что получается в простейшем случае."
   ]
  },
  {
   "cell_type": "code",
   "execution_count": 157,
   "metadata": {},
   "outputs": [],
   "source": [
    "newws_proc = map(lambda x:' '.join(normalizePymorphy(x)), newws)\n",
    "X_w = TfidfVectorizer().fit_transform(newws_proc)\n",
    "svd = TruncatedSVD(n_components=30)\n",
    "X2_w = svd.fit_transform(X_w)"
   ]
  },
  {
   "cell_type": "markdown",
   "metadata": {},
   "source": [
    "Теперь взглянем как группируются тексты. Для этого используем UMAP, преобразуем векторы текстов к плоскости и отрисуем их. Заодно проверим насколько изменяется распределение текстов при тематическом моделировании."
   ]
  },
  {
   "cell_type": "code",
   "execution_count": 158,
   "metadata": {},
   "outputs": [],
   "source": [
    "umap_w = umap.UMAP()\n",
    "X_w_u = umap_w.fit_transform(X_w)"
   ]
  },
  {
   "cell_type": "code",
   "execution_count": 159,
   "metadata": {},
   "outputs": [
    {
     "data": {
      "image/png": "[encoded data removed]",
      "text/plain": [
       "<Figure size 432x288 with 1 Axes>"
      ]
     },
     "metadata": {
      "needs_background": "light"
     },
     "output_type": "display_data"
    }
   ],
   "source": [
    "fig, ax = plt.subplots()\n",
    "ax.scatter(X_w_u[:, 0], X_w_u[:, 1], \n",
    "           cmap=plt.cm.autumn, edgecolor='b', s=40)\n",
    "plt.show()\n"
   ]
  },
  {
   "cell_type": "code",
   "execution_count": 160,
   "metadata": {},
   "outputs": [],
   "source": [
    "umap_w = umap.UMAP()\n",
    "X2_w_u = umap_w.fit_transform(X2_w)"
   ]
  },
  {
   "cell_type": "code",
   "execution_count": 161,
   "metadata": {},
   "outputs": [
    {
     "data": {
      "image/png": "[encoded data removed]",
      "text/plain": [
       "<Figure size 432x288 with 1 Axes>"
      ]
     },
     "metadata": {
      "needs_background": "light"
     },
     "output_type": "display_data"
    }
   ],
   "source": [
    "fig, ax = plt.subplots()\n",
    "ax.scatter(X2_w_u[:, 0], X2_w_u[:, 1], \n",
    "           cmap=plt.cm.autumn, edgecolor='b', s=40)\n",
    "plt.show()\n"
   ]
  },
  {
   "cell_type": "markdown",
   "metadata": {},
   "source": [
    "Теперь поговорим об алгоритме Expectation Maximization. \n",
    "\n",
    "Но сперва придется разобраться с методом максимального правдоподобия. Этот метод получает на вход некоторое распределение, принадлежащее некоторому множеству распределений, а также само это множество. Считается, что все распределения, входящие в множество, подчинены какой-то неявной закономерности, в рамках которой какие-то распределения являются более вероятными, а какие-то менее (обладают большим или меньшим правдоподобием). Метод оценивает насколько данное распределение является правдоподобным в рамках имеющегося множества распределений. \n",
    "\n",
    "Пример метода максимального правдоподобия и его разбор можно найти [здесь](https://habr.com/ru/companies/otus/articles/585610/).\n",
    "\n",
    "Сходные задачи решает метод [перплексии](https://habr.com/ru/companies/wunderfund/articles/580230/), который показывает, насколько \"неожиданным\" является очередной элемент в системе.\n",
    "\n",
    "Теперь представим себе, что мы моделируем поведение неявной системы, которая порождает некоторые распределения. Мы можем проинициализровать параметры такой системы случайным образом, так как не знаем какими они должны быть. Теперь мы можем взять распределения, которые получаются у моделируемой системы и определить, насколько они правдоподобны для нашей моделирующей системы. Если правдоподобие оказывается низким, то нам необходимо поменять параметры моделирующей системы, чтобы правдоподобие стало выше. Фактически мы решаем задачу оптимизации для функции оценки правдоподобия.\n",
    "\n",
    "Именно этим занимается метод [Expectation](https://habr.com/ru/articles/501850/) [Maximization](http://www.machinelearning.ru/wiki/index.php?title=EM-%D0%B0%D0%BB%D0%B3%D0%BE%D1%80%D0%B8%D1%82%D0%BC). \n",
    "\n",
    "Предположим, что тексты разбиваются по некоторым тематикам. Для каждой тематики можно задать центр, а тексты данной тематики будут распределены по нормальному закону от этого центра. Используем для их обнаружения класс [GaussianMixture из sklearn](https://scikit-learn.org/stable/modules/generated/sklearn.mixture.GaussianMixture.html#sklearn.mixture.GaussianMixture)."
   ]
  },
  {
   "cell_type": "code",
   "execution_count": 162,
   "metadata": {},
   "outputs": [],
   "source": [
    "from sklearn.mixture import GaussianMixture"
   ]
  },
  {
   "cell_type": "markdown",
   "metadata": {},
   "source": [
    "К сожалению, он не умеет работать с разреженными матрицами, а для построения плотную мне не хватает оперативной памяти."
   ]
  },
  {
   "cell_type": "code",
   "execution_count": 200,
   "metadata": {},
   "outputs": [
    {
     "data": {
      "text/plain": [
       "(1446, 24594)"
      ]
     },
     "execution_count": 200,
     "metadata": {},
     "output_type": "execute_result"
    }
   ],
   "source": [
    "X_w.shape"
   ]
  },
  {
   "cell_type": "code",
   "execution_count": 163,
   "metadata": {},
   "outputs": [
    {
     "ename": "MemoryError",
     "evalue": "Unable to allocate 45.1 GiB for an array with shape (10, 24594, 24594) and data type float64",
     "output_type": "error",
     "traceback": [
      "\u001b[0;31m---------------------------------------------------------------------------\u001b[0m",
      "\u001b[0;31mMemoryError\u001b[0m                               Traceback (most recent call last)",
      "\u001b[0;32m/tmp/ipykernel_302336/513997560.py\u001b[0m in \u001b[0;36m<module>\u001b[0;34m\u001b[0m\n\u001b[1;32m      1\u001b[0m \u001b[0mgm\u001b[0m \u001b[0;34m=\u001b[0m \u001b[0mGaussianMixture\u001b[0m\u001b[0;34m(\u001b[0m\u001b[0mn_components\u001b[0m\u001b[0;34m=\u001b[0m\u001b[0;36m10\u001b[0m\u001b[0;34m)\u001b[0m\u001b[0;34m\u001b[0m\u001b[0;34m\u001b[0m\u001b[0m\n\u001b[0;32m----> 2\u001b[0;31m \u001b[0mgm_res\u001b[0m \u001b[0;34m=\u001b[0m \u001b[0mgm\u001b[0m\u001b[0;34m.\u001b[0m\u001b[0mfit\u001b[0m\u001b[0;34m(\u001b[0m\u001b[0mX_w\u001b[0m\u001b[0;34m.\u001b[0m\u001b[0mtoarray\u001b[0m\u001b[0;34m(\u001b[0m\u001b[0;34m)\u001b[0m\u001b[0;34m)\u001b[0m\u001b[0;34m\u001b[0m\u001b[0;34m\u001b[0m\u001b[0m\n\u001b[0m\u001b[1;32m      3\u001b[0m \u001b[0mgm_res\u001b[0m\u001b[0;34m.\u001b[0m\u001b[0maic\u001b[0m\u001b[0;34m(\u001b[0m\u001b[0mX_w\u001b[0m\u001b[0;34m.\u001b[0m\u001b[0mtoarray\u001b[0m\u001b[0;34m(\u001b[0m\u001b[0;34m)\u001b[0m\u001b[0;34m)\u001b[0m\u001b[0;34m\u001b[0m\u001b[0;34m\u001b[0m\u001b[0m\n",
      "\u001b[0;32m~/.local/lib/python3.10/site-packages/sklearn/mixture/_base.py\u001b[0m in \u001b[0;36mfit\u001b[0;34m(self, X, y)\u001b[0m\n\u001b[1;32m    198\u001b[0m             \u001b[0mThe\u001b[0m \u001b[0mfitted\u001b[0m \u001b[0mmixture\u001b[0m\u001b[0;34m.\u001b[0m\u001b[0;34m\u001b[0m\u001b[0;34m\u001b[0m\u001b[0m\n\u001b[1;32m    199\u001b[0m         \"\"\"\n\u001b[0;32m--> 200\u001b[0;31m         \u001b[0mself\u001b[0m\u001b[0;34m.\u001b[0m\u001b[0mfit_predict\u001b[0m\u001b[0;34m(\u001b[0m\u001b[0mX\u001b[0m\u001b[0;34m,\u001b[0m \u001b[0my\u001b[0m\u001b[0;34m)\u001b[0m\u001b[0;34m\u001b[0m\u001b[0;34m\u001b[0m\u001b[0m\n\u001b[0m\u001b[1;32m    201\u001b[0m         \u001b[0;32mreturn\u001b[0m \u001b[0mself\u001b[0m\u001b[0;34m\u001b[0m\u001b[0;34m\u001b[0m\u001b[0m\n\u001b[1;32m    202\u001b[0m \u001b[0;34m\u001b[0m\u001b[0m\n",
      "\u001b[0;32m~/.local/lib/python3.10/site-packages/sklearn/mixture/_base.py\u001b[0m in \u001b[0;36mfit_predict\u001b[0;34m(self, X, y)\u001b[0m\n\u001b[1;32m    251\u001b[0m \u001b[0;34m\u001b[0m\u001b[0m\n\u001b[1;32m    252\u001b[0m             \u001b[0;32mif\u001b[0m \u001b[0mdo_init\u001b[0m\u001b[0;34m:\u001b[0m\u001b[0;34m\u001b[0m\u001b[0;34m\u001b[0m\u001b[0m\n\u001b[0;32m--> 253\u001b[0;31m                 \u001b[0mself\u001b[0m\u001b[0;34m.\u001b[0m\u001b[0m_initialize_parameters\u001b[0m\u001b[0;34m(\u001b[0m\u001b[0mX\u001b[0m\u001b[0;34m,\u001b[0m \u001b[0mrandom_state\u001b[0m\u001b[0;34m)\u001b[0m\u001b[0;34m\u001b[0m\u001b[0;34m\u001b[0m\u001b[0m\n\u001b[0m\u001b[1;32m    254\u001b[0m \u001b[0;34m\u001b[0m\u001b[0m\n\u001b[1;32m    255\u001b[0m             \u001b[0mlower_bound\u001b[0m \u001b[0;34m=\u001b[0m \u001b[0;34m-\u001b[0m\u001b[0mnp\u001b[0m\u001b[0;34m.\u001b[0m\u001b[0minf\u001b[0m \u001b[0;32mif\u001b[0m \u001b[0mdo_init\u001b[0m \u001b[0;32melse\u001b[0m \u001b[0mself\u001b[0m\u001b[0;34m.\u001b[0m\u001b[0mlower_bound_\u001b[0m\u001b[0;34m\u001b[0m\u001b[0;34m\u001b[0m\u001b[0m\n",
      "\u001b[0;32m~/.local/lib/python3.10/site-packages/sklearn/mixture/_base.py\u001b[0m in \u001b[0;36m_initialize_parameters\u001b[0;34m(self, X, random_state)\u001b[0m\n\u001b[1;32m    158\u001b[0m             )\n\u001b[1;32m    159\u001b[0m \u001b[0;34m\u001b[0m\u001b[0m\n\u001b[0;32m--> 160\u001b[0;31m         \u001b[0mself\u001b[0m\u001b[0;34m.\u001b[0m\u001b[0m_initialize\u001b[0m\u001b[0;34m(\u001b[0m\u001b[0mX\u001b[0m\u001b[0;34m,\u001b[0m \u001b[0mresp\u001b[0m\u001b[0;34m)\u001b[0m\u001b[0;34m\u001b[0m\u001b[0;34m\u001b[0m\u001b[0m\n\u001b[0m\u001b[1;32m    161\u001b[0m \u001b[0;34m\u001b[0m\u001b[0m\n\u001b[1;32m    162\u001b[0m     \u001b[0;34m@\u001b[0m\u001b[0mabstractmethod\u001b[0m\u001b[0;34m\u001b[0m\u001b[0;34m\u001b[0m\u001b[0m\n",
      "\u001b[0;32m~/.local/lib/python3.10/site-packages/sklearn/mixture/_gaussian_mixture.py\u001b[0m in \u001b[0;36m_initialize\u001b[0;34m(self, X, resp)\u001b[0m\n\u001b[1;32m    711\u001b[0m         \u001b[0mn_samples\u001b[0m\u001b[0;34m,\u001b[0m \u001b[0m_\u001b[0m \u001b[0;34m=\u001b[0m \u001b[0mX\u001b[0m\u001b[0;34m.\u001b[0m\u001b[0mshape\u001b[0m\u001b[0;34m\u001b[0m\u001b[0;34m\u001b[0m\u001b[0m\n\u001b[1;32m    712\u001b[0m \u001b[0;34m\u001b[0m\u001b[0m\n\u001b[0;32m--> 713\u001b[0;31m         weights, means, covariances = _estimate_gaussian_parameters(\n\u001b[0m\u001b[1;32m    714\u001b[0m             \u001b[0mX\u001b[0m\u001b[0;34m,\u001b[0m \u001b[0mresp\u001b[0m\u001b[0;34m,\u001b[0m \u001b[0mself\u001b[0m\u001b[0;34m.\u001b[0m\u001b[0mreg_covar\u001b[0m\u001b[0;34m,\u001b[0m \u001b[0mself\u001b[0m\u001b[0;34m.\u001b[0m\u001b[0mcovariance_type\u001b[0m\u001b[0;34m\u001b[0m\u001b[0;34m\u001b[0m\u001b[0m\n\u001b[1;32m    715\u001b[0m         )\n",
      "\u001b[0;32m~/.local/lib/python3.10/site-packages/sklearn/mixture/_gaussian_mixture.py\u001b[0m in \u001b[0;36m_estimate_gaussian_parameters\u001b[0;34m(X, resp, reg_covar, covariance_type)\u001b[0m\n\u001b[1;32m    289\u001b[0m     \u001b[0mnk\u001b[0m \u001b[0;34m=\u001b[0m \u001b[0mresp\u001b[0m\u001b[0;34m.\u001b[0m\u001b[0msum\u001b[0m\u001b[0;34m(\u001b[0m\u001b[0maxis\u001b[0m\u001b[0;34m=\u001b[0m\u001b[0;36m0\u001b[0m\u001b[0;34m)\u001b[0m \u001b[0;34m+\u001b[0m \u001b[0;36m10\u001b[0m \u001b[0;34m*\u001b[0m \u001b[0mnp\u001b[0m\u001b[0;34m.\u001b[0m\u001b[0mfinfo\u001b[0m\u001b[0;34m(\u001b[0m\u001b[0mresp\u001b[0m\u001b[0;34m.\u001b[0m\u001b[0mdtype\u001b[0m\u001b[0;34m)\u001b[0m\u001b[0;34m.\u001b[0m\u001b[0meps\u001b[0m\u001b[0;34m\u001b[0m\u001b[0;34m\u001b[0m\u001b[0m\n\u001b[1;32m    290\u001b[0m     \u001b[0mmeans\u001b[0m \u001b[0;34m=\u001b[0m \u001b[0mnp\u001b[0m\u001b[0;34m.\u001b[0m\u001b[0mdot\u001b[0m\u001b[0;34m(\u001b[0m\u001b[0mresp\u001b[0m\u001b[0;34m.\u001b[0m\u001b[0mT\u001b[0m\u001b[0;34m,\u001b[0m \u001b[0mX\u001b[0m\u001b[0;34m)\u001b[0m \u001b[0;34m/\u001b[0m \u001b[0mnk\u001b[0m\u001b[0;34m[\u001b[0m\u001b[0;34m:\u001b[0m\u001b[0;34m,\u001b[0m \u001b[0mnp\u001b[0m\u001b[0;34m.\u001b[0m\u001b[0mnewaxis\u001b[0m\u001b[0;34m]\u001b[0m\u001b[0;34m\u001b[0m\u001b[0;34m\u001b[0m\u001b[0m\n\u001b[0;32m--> 291\u001b[0;31m     covariances = {\n\u001b[0m\u001b[1;32m    292\u001b[0m         \u001b[0;34m\"full\"\u001b[0m\u001b[0;34m:\u001b[0m \u001b[0m_estimate_gaussian_covariances_full\u001b[0m\u001b[0;34m,\u001b[0m\u001b[0;34m\u001b[0m\u001b[0;34m\u001b[0m\u001b[0m\n\u001b[1;32m    293\u001b[0m         \u001b[0;34m\"tied\"\u001b[0m\u001b[0;34m:\u001b[0m \u001b[0m_estimate_gaussian_covariances_tied\u001b[0m\u001b[0;34m,\u001b[0m\u001b[0;34m\u001b[0m\u001b[0;34m\u001b[0m\u001b[0m\n",
      "\u001b[0;32m~/.local/lib/python3.10/site-packages/sklearn/mixture/_gaussian_mixture.py\u001b[0m in \u001b[0;36m_estimate_gaussian_covariances_full\u001b[0;34m(resp, X, nk, means, reg_covar)\u001b[0m\n\u001b[1;32m    173\u001b[0m     \"\"\"\n\u001b[1;32m    174\u001b[0m     \u001b[0mn_components\u001b[0m\u001b[0;34m,\u001b[0m \u001b[0mn_features\u001b[0m \u001b[0;34m=\u001b[0m \u001b[0mmeans\u001b[0m\u001b[0;34m.\u001b[0m\u001b[0mshape\u001b[0m\u001b[0;34m\u001b[0m\u001b[0;34m\u001b[0m\u001b[0m\n\u001b[0;32m--> 175\u001b[0;31m     \u001b[0mcovariances\u001b[0m \u001b[0;34m=\u001b[0m \u001b[0mnp\u001b[0m\u001b[0;34m.\u001b[0m\u001b[0mempty\u001b[0m\u001b[0;34m(\u001b[0m\u001b[0;34m(\u001b[0m\u001b[0mn_components\u001b[0m\u001b[0;34m,\u001b[0m \u001b[0mn_features\u001b[0m\u001b[0;34m,\u001b[0m \u001b[0mn_features\u001b[0m\u001b[0;34m)\u001b[0m\u001b[0;34m)\u001b[0m\u001b[0;34m\u001b[0m\u001b[0;34m\u001b[0m\u001b[0m\n\u001b[0m\u001b[1;32m    176\u001b[0m     \u001b[0;32mfor\u001b[0m \u001b[0mk\u001b[0m \u001b[0;32min\u001b[0m \u001b[0mrange\u001b[0m\u001b[0;34m(\u001b[0m\u001b[0mn_components\u001b[0m\u001b[0;34m)\u001b[0m\u001b[0;34m:\u001b[0m\u001b[0;34m\u001b[0m\u001b[0;34m\u001b[0m\u001b[0m\n\u001b[1;32m    177\u001b[0m         \u001b[0mdiff\u001b[0m \u001b[0;34m=\u001b[0m \u001b[0mX\u001b[0m \u001b[0;34m-\u001b[0m \u001b[0mmeans\u001b[0m\u001b[0;34m[\u001b[0m\u001b[0mk\u001b[0m\u001b[0;34m]\u001b[0m\u001b[0;34m\u001b[0m\u001b[0;34m\u001b[0m\u001b[0m\n",
      "\u001b[0;31mMemoryError\u001b[0m: Unable to allocate 45.1 GiB for an array with shape (10, 24594, 24594) and data type float64"
     ]
    }
   ],
   "source": [
    "gm = GaussianMixture(n_components=10)\n",
    "gm_res = gm.fit(X_w.toarray())\n",
    "gm_res.aic(X_w.toarray())"
   ]
  },
  {
   "cell_type": "markdown",
   "metadata": {},
   "source": [
    "Построим разное количество компонент и оценим их правдоподобие по Акайке."
   ]
  },
  {
   "cell_type": "code",
   "execution_count": 164,
   "metadata": {},
   "outputs": [
    {
     "data": {
      "text/plain": [
       "-176545.35623897405"
      ]
     },
     "execution_count": 164,
     "metadata": {},
     "output_type": "execute_result"
    }
   ],
   "source": [
    "gm2 = GaussianMixture(n_components=10)\n",
    "gm2_res = gm2.fit(X2_w)\n",
    "gm2_res.aic(X2_w)"
   ]
  },
  {
   "cell_type": "code",
   "execution_count": 165,
   "metadata": {},
   "outputs": [
    {
     "data": {
      "text/plain": [
       "-92253.23922519958"
      ]
     },
     "execution_count": 165,
     "metadata": {},
     "output_type": "execute_result"
    }
   ],
   "source": [
    "gm2 = GaussianMixture(n_components=2)\n",
    "gm2_res = gm2.fit(X2_w)\n",
    "gm2_res.aic(X2_w)"
   ]
  },
  {
   "cell_type": "code",
   "execution_count": 166,
   "metadata": {},
   "outputs": [
    {
     "data": {
      "text/plain": [
       "-191470.56050164043"
      ]
     },
     "execution_count": 166,
     "metadata": {},
     "output_type": "execute_result"
    }
   ],
   "source": [
    "gm2 = GaussianMixture(n_components=16)\n",
    "gm2_res = gm2.fit(X2_w)\n",
    "gm2_res.aic(X2_w)"
   ]
  },
  {
   "cell_type": "markdown",
   "metadata": {},
   "source": [
    "Используем метод k-средних, чтобы он определил какой текст ближе к какому центроиду. На самом деле, это очень грубое приближение, так как он пытается строить сферы. Метод Гаусовских смесей при этом может выделять направления и обладать разной дисперсией в разных направлениях. Но для первого приближения - пойдет."
   ]
  },
  {
   "cell_type": "code",
   "execution_count": 84,
   "metadata": {},
   "outputs": [],
   "source": [
    "from sklearn.cluster import KMeans"
   ]
  },
  {
   "cell_type": "code",
   "execution_count": 167,
   "metadata": {},
   "outputs": [],
   "source": [
    "km = KMeans(n_clusters=16, init=gm2_res.means_)\n",
    "km.cluster_centers_ = gm2_res.means_\n",
    "km._n_threads = 4"
   ]
  },
  {
   "cell_type": "code",
   "execution_count": 168,
   "metadata": {},
   "outputs": [],
   "source": [
    "y_hat = km.predict(X2_w)"
   ]
  },
  {
   "cell_type": "code",
   "execution_count": 169,
   "metadata": {},
   "outputs": [
    {
     "data": {
      "image/png": "[encoded data removed]",
      "text/plain": [
       "<Figure size 432x288 with 1 Axes>"
      ]
     },
     "metadata": {
      "needs_background": "light"
     },
     "output_type": "display_data"
    }
   ],
   "source": [
    "fig, ax = plt.subplots()\n",
    "ax.scatter(X2_w_u[:, 0], X2_w_u[:, 1], \n",
    "           cmap=plt.cm.BrBG, c=y_hat)\n",
    "plt.show()\n"
   ]
  },
  {
   "cell_type": "code",
   "execution_count": 170,
   "metadata": {},
   "outputs": [
    {
     "data": {
      "text/plain": [
       "array([6, 6, 6, 6, 6, 1, 6, 6, 6, 6], dtype=int32)"
      ]
     },
     "execution_count": 170,
     "metadata": {},
     "output_type": "execute_result"
    }
   ],
   "source": [
    "y_hat[:10]"
   ]
  },
  {
   "cell_type": "markdown",
   "metadata": {},
   "source": [
    "Посмотрим как группируются тексты сводок."
   ]
  },
  {
   "cell_type": "code",
   "execution_count": 171,
   "metadata": {},
   "outputs": [
    {
     "data": {
      "text/plain": [
       "[(0, 60),\n",
       " (1, 128),\n",
       " (2, 31),\n",
       " (3, 26),\n",
       " (4, 65),\n",
       " (5, 65),\n",
       " (6, 247),\n",
       " (7, 54),\n",
       " (8, 54),\n",
       " (9, 53),\n",
       " (10, 39),\n",
       " (11, 54),\n",
       " (12, 56),\n",
       " (13, 61),\n",
       " (14, 53),\n",
       " (15, 400)]"
      ]
     },
     "execution_count": 171,
     "metadata": {},
     "output_type": "execute_result"
    }
   ],
   "source": [
    "[(y, sum([1 for x in y_hat if x == y])) for y in range(max(y_hat)+1)]"
   ]
  },
  {
   "cell_type": "code",
   "execution_count": 203,
   "metadata": {},
   "outputs": [
    {
     "name": "stdout",
     "output_type": "stream",
     "text": [
      "\n",
      "Войска 1-го УКРАИНСКОГО фронта, после длительной осады и упорных боёв завершили ликвидацию окружённого гарнизона противника и 1 апреля овладели городом и крепостью ГЛОГАУ (ГЛОГУВ) - мощным узлом обороны немцев на левом берегу ОДЕРА.\n",
      "\n",
      "В ходе боёв за ГЛОГАУ войска фронта взяли в плен более 8.000 неме \n",
      "=====\n",
      "\n",
      "\n",
      "В течение 2 апреля на БРАТИСЛАВСКОМ направлении войска 2-го УКРАИНСКОГО фронта, продолжая наступление, овладели городом и железнодорожной станцией ТОПОЛЬЧАНЫ, а также заняли более 100 других населённых пунктов, в числе которых крупные населённые пункты БОШАНЫ, ВЕЛКИ РИПНЯНЫ, СИЛАДИЦЕ, СУХА, ПУДМЕРИ \n",
      "=====\n",
      "\n",
      "\n",
      "13 течение 3 апреля войска 2-го БЕЛОРУССКОГО фронта вели бои по уничтожению остатков окружённой группы немецких войск восточнее ГДАНЬСКА и заняли населённые пункты НОЙЕНДОРФ, КЛАЙНПЛЕНЕДОРФ, ЗИГЕСКРАНЦ, ХОЙБУДЕ, КРАКАУЕРКЕМПЕ, КРАКАУ. За 1 и 2 апреля в этом районе взято в плен более 2.000 немецких  \n",
      "=====\n",
      "\n",
      "\n",
      "В течение 4 апреля в полосе Карпат, юго-западнее города НОВЫ ТАРГ, войска 4-го УКРАИНСКОГО фронта, наступая совместно с чехословацкими войсками, заняли более 60 населённых пунктов, в числе которых крупные населённые пункты СЛАНИЦА, НАМЕСТОВО, МУТНЕ, БРЕЗА, ЛОКЧА, ГРУСТИН, ПРИБИШ, ВЕЛИКАЯ БОРОВЕ, СВ \n",
      "=====\n",
      "\n",
      "\n",
      "В течение 5 апреля севернее ГДЫНИ войска 2-го БЕЛОРУССКОГО фронта завершили ликвидацию остатков группы немецких войск, прижатых к побережью залива ПУТЦИГЕР ВИК, заняв при этом населённые пункты ОКСХЕФТ, ОБЛУШ, АЛЬТ-ОБЛУШ, ПОГОРШ, НОЙ-ОБЛУШ, БАБИ-ДУЛ, КОССАКАУ, ПИРВОШИН, БРЮКК, МЕХЛИНКЕН, РЕВА.\n",
      "\n",
      "В р \n",
      "=====\n",
      "\n"
     ]
    }
   ],
   "source": [
    "coi = 15\n",
    "\n",
    "cnt = 0\n",
    "for n, c in zip(newws, y_hat):\n",
    "    if c == coi:\n",
    "        print(n[:300], '\\n=====\\n')\n",
    "        cnt += 1\n",
    "        if cnt == 5:\n",
    "            break"
   ]
  },
  {
   "cell_type": "code",
   "execution_count": null,
   "metadata": {},
   "outputs": [],
   "source": []
  },
  {
   "cell_type": "markdown",
   "metadata": {},
   "source": [
    "Ну, побаловались и хватит. Попросим само Гаусовское распределение расклассифицировать имеющиеся у нас тексты."
   ]
  },
  {
   "cell_type": "code",
   "execution_count": 177,
   "metadata": {},
   "outputs": [],
   "source": [
    "y_hat = gm2.predict(X2_w)"
   ]
  },
  {
   "cell_type": "code",
   "execution_count": 178,
   "metadata": {},
   "outputs": [
    {
     "data": {
      "image/png": "[encoded data removed]",
      "text/plain": [
       "<Figure size 432x288 with 1 Axes>"
      ]
     },
     "metadata": {
      "needs_background": "light"
     },
     "output_type": "display_data"
    }
   ],
   "source": [
    "fig, ax = plt.subplots()\n",
    "ax.scatter(X2_w_u[:, 0], X2_w_u[:, 1], \n",
    "           cmap=plt.cm.BrBG, c=y_hat)\n",
    "plt.show()\n"
   ]
  },
  {
   "cell_type": "code",
   "execution_count": 199,
   "metadata": {},
   "outputs": [
    {
     "data": {
      "image/png": "[encoded data removed]",
      "text/plain": [
       "<Figure size 360x360 with 1 Axes>"
      ]
     },
     "metadata": {
      "needs_background": "light"
     },
     "output_type": "display_data"
    }
   ],
   "source": [
    "umap_w = umap.UMAP(n_components=3)\n",
    "X3_w_u = umap_w.fit_transform(X2_w)\n",
    "\n",
    "%matplotlib inline\n",
    "\n",
    "fig = plt.figure(figsize=(5,5))\n",
    "ax = Axes3D(fig, auto_add_to_figure=False, elev=-150, azim=120)\n",
    "fig.add_axes(ax)\n",
    "ax.scatter(X3_w_u[:, 0], X3_w_u[:, 1], X3_w_u[:, 2], c=y_hat,\n",
    "          cmap=plt.cm.BrBG, s=40);\n"
   ]
  },
  {
   "cell_type": "markdown",
   "metadata": {},
   "source": [
    "Распределение в итоге оказывается похожее, но другое. Посмотрим как группируются тексты сводок в исходном методе."
   ]
  },
  {
   "cell_type": "code",
   "execution_count": 179,
   "metadata": {},
   "outputs": [
    {
     "data": {
      "text/plain": [
       "[(0, 60),\n",
       " (1, 145),\n",
       " (2, 31),\n",
       " (3, 26),\n",
       " (4, 65),\n",
       " (5, 65),\n",
       " (6, 275),\n",
       " (7, 54),\n",
       " (8, 54),\n",
       " (9, 54),\n",
       " (10, 41),\n",
       " (11, 54),\n",
       " (12, 56),\n",
       " (13, 61),\n",
       " (14, 56),\n",
       " (15, 349)]"
      ]
     },
     "execution_count": 179,
     "metadata": {},
     "output_type": "execute_result"
    }
   ],
   "source": [
    "[(y, sum([1 for x in y_hat if x == y])) for y in range(max(y_hat)+1)]"
   ]
  },
  {
   "cell_type": "code",
   "execution_count": 180,
   "metadata": {},
   "outputs": [
    {
     "name": "stdout",
     "output_type": "stream",
     "text": [
      "\n",
      "В последний час\n",
      "\n",
      "На ЦЕНТРАЛЬНОМ фронте наши войска в результате решительного штурма овладели городом и железнодорожным узлом ВЕЛИКИЕ ЛУКИ. Ввиду отказа сложить оружие немецкий гарнизон города истреблён.\n",
      "\n",
      "Южнее СТАЛИНГРАДА наши войска овладели городом ЭЛИСТА.\n",
      "\n",
      "Юго-западнее Сталинграда наши войска ов \n",
      "=====\n",
      "\n",
      "\n",
      "Утреннее сообщение 2 января\n",
      "\n",
      "В течение ночи на 2 января наши войска в районе Среднего Дона, юго-западнее и южнее Сталинграда, на Центральном фронте и на Северном Кавказе продолжали вести наступательные бои на прежних направлениях.\n",
      "\n",
      "Вечернее сообщение 2 января\n",
      "\n",
      "В течение 2 января наши войска в район \n",
      "=====\n",
      "\n",
      "\n",
      "В последний час\n",
      "\n",
      "3 января наши наступающие войска внезапным ударом овладели городом и железнодорожной станцией МОЗДОК, а также городом МАЛГОБЕК.\n",
      "\n",
      "Утреннее сообщение 3 января\n",
      "\n",
      "В течение ночи на 3 января наши войска в районе Среднего Дона, юго-западнее и южнее Сталинграда, на Центральном фронте и на  \n",
      "=====\n",
      "\n",
      "\n",
      "В последний час\n",
      "\n",
      "4 января наши наступающие войска овладели городом ЧЕРНЫШКОВСКИЙ и железнодорожной станцией ЧЕРНЫШКОВ.\n",
      "\n",
      "В районе Чернышковский захвачены большие трофеи, среди которых самолётов - 17, снарядов - 2.000.000, авиабомб - 500.000, а также склады с продовольствием и военным имуществом.\n",
      "\n",
      "Ут \n",
      "=====\n",
      "\n",
      "\n",
      "В последний час\n",
      "\n",
      "I.\n",
      "\n",
      "4 января наши войска после решительной атаки овладели городом и железнодорожной станцией НАЛЬЧИК.\n",
      "\n",
      "5 января наши войска овладели городом и узлом ПРОХЛАДНЫЙ, городом МАЙСКОЕ и узлом КОТЛЯРЕВСКАЯ.\n",
      "\n",
      "В результате упорного боя наши войска овладели городом и железнодорожной станцией  \n",
      "=====\n",
      "\n"
     ]
    }
   ],
   "source": [
    "coi = 6\n",
    "\n",
    "cnt = 0\n",
    "for n, c in zip(newws, y_hat):\n",
    "    if c == coi:\n",
    "        print(n[:300], '\\n=====\\n')\n",
    "        cnt += 1\n",
    "        if cnt == 5:\n",
    "            break"
   ]
  },
  {
   "cell_type": "code",
   "execution_count": null,
   "metadata": {},
   "outputs": [],
   "source": []
  }
 ],
 "metadata": {
  "kernelspec": {
   "display_name": "Python 3 (ipykernel)",
   "language": "python",
   "name": "python3"
  },
  "language_info": {
   "codemirror_mode": {
    "name": "ipython",
    "version": 3
   },
   "file_extension": ".py",
   "mimetype": "text/x-python",
   "name": "python",
   "nbconvert_exporter": "python",
   "pygments_lexer": "ipython3",
   "version": "3.10.6"
  }
 },
 "nbformat": 4,
 "nbformat_minor": 4
}
